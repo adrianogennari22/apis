{
  "nbformat": 4,
  "nbformat_minor": 0,
  "metadata": {
    "colab": {
      "provenance": []
    },
    "kernelspec": {
      "name": "python3",
      "display_name": "Python 3"
    },
    "language_info": {
      "name": "python"
    }
  },
  "cells": [
    {
      "cell_type": "code",
      "source": [
        "import requests\n",
        "import json\n",
        "import pandas as pd\n"
      ],
      "metadata": {
        "id": "TmFbabzstWqU"
      },
      "execution_count": 14,
      "outputs": []
    },
    {
      "cell_type": "markdown",
      "source": [
        "Buscaremos información relevante en dos Api, que nos pueden aportar información de estadísticas para hacer seguimiento de jugadores ojeados. Tenemos dos ejemplos de lo que podremos ver.  "
      ],
      "metadata": {
        "id": "6HHRXijowdTu"
      }
    },
    {
      "cell_type": "code",
      "source": [
        "# Definimos la URL base de la API de Football-Data.org\n",
        "base_url = \"https://api.football-data.org/v2/\"\n",
        "\n",
        "#Documentación de Api disponible en https://docs.football-data.org/general/v4/index.html\n",
        "\n",
        "# Definimos el código de la competición (Premier League inglesa)\n",
        "competition_id = 2014\n",
        "\n",
        "# Definimos la temporada de interés (en este caso, la temporada 2022)\n",
        "season = \"2022\"\n",
        "\n",
        "# Construimos la URL completa para obtener los principales goleadores de la temporada anterior\n",
        "url = f\"{base_url}competitions/{competition_id}/scorers?season={season}\"\n",
        "\n",
        "# Agregamos token de autenticación de Football-Data.org\n",
        "headers = {\"X-Auth-Token\": \"3515801f025e415cb6f6c2068fbfa38f\"}\n",
        "\n",
        "# Realizamos la solicitud a la API de Football-Data.org\n",
        "response = requests.get(url, headers=headers)\n",
        "if response.status_code == 200:\n",
        "\n",
        "    # Convertimos la respuesta a formato JSON\n",
        "    data = response.json()\n",
        "\n",
        "    # Imprimir los principales goleadores y sus goles\n",
        "    print(\"Principales goleadores:\")\n",
        "    for scorer in data[\"scorers\"]:\n",
        "        player_name = scorer[\"player\"][\"name\"]\n",
        "        goals = scorer[\"numberOfGoals\"]\n",
        "        print(f\"{player_name}: {goals} goles\")\n",
        "else:\n",
        "    print(\"Error al obtener los datos:\", response.status_code)\n"
      ],
      "metadata": {
        "colab": {
          "base_uri": "https://localhost:8080/"
        },
        "id": "BbSuriR7QHL_",
        "outputId": "d9091be1-f6e7-4162-f05c-7f9bbcb9d664"
      },
      "execution_count": 21,
      "outputs": [
        {
          "output_type": "stream",
          "name": "stdout",
          "text": [
            "Principales goleadores:\n",
            "Robert Lewandowski: 23 goles\n",
            "Karim Benzema: 19 goles\n",
            "Joselu: 16 goles\n",
            "Antoine Griezmann: 15 goles\n",
            "Borja Iglesias: 15 goles\n",
            "Vedat Muriqi: 15 goles\n",
            "Enes Ünal: 14 goles\n",
            "Álvaro Morata: 13 goles\n",
            "Valentín Castellanos: 13 goles\n",
            "Iago Aspas: 12 goles\n"
          ]
        }
      ]
    },
    {
      "cell_type": "code",
      "source": [
        "# Definimos la URL base de la API de Football-Data.org\n",
        "base_url = \"https://api.football-data.org/v2/\"\n",
        "\n",
        "# Definimos el código de la competición (en este caso, Premier League)\n",
        "competition_id = 2021  # Código de la Premier League\n",
        "\n",
        "# Definimos la temporada de interés (en este caso, la temporada 2019-2020)\n",
        "season = \"2022\"\n",
        "\n",
        "# Construimos la URL completa para obtener los máximos goleadores de la temporada y la liga especificadas\n",
        "url = f\"{base_url}competitions/{competition_id}/scorers?season={season}\"\n",
        "\n",
        "# Agregamos token de autenticación de Football-Data.org\n",
        "headers = {\"X-Auth-Token\": \"3515801f025e415cb6f6c2068fbfa38f\"}\n",
        "\n",
        "# Realizamos la solicitud a la API de Football-Data.org\n",
        "response = requests.get(url, headers=headers)\n",
        "if response.status_code == 200:\n",
        "\n",
        "    # Convertir la respuesta a formato JSON\n",
        "    data = response.json()\n",
        "\n",
        "    # Obtener los máximos goleadores de la temporada y la liga especificadas\n",
        "    scorers = data[\"scorers\"]\n",
        "\n",
        "    # Crear un DataFrame con los datos de los máximos goleadores\n",
        "    df = pd.DataFrame(scorers)\n",
        "\n",
        "    # Imprimir el DataFrame\n",
        "    print(df.head)\n",
        "else:\n",
        "    print(\"Error al obtener los datos:\", response.status_code)\n",
        "\n"
      ],
      "metadata": {
        "colab": {
          "base_uri": "https://localhost:8080/"
        },
        "id": "SvTLZ6UjWgrV",
        "outputId": "18f876b6-f517-45d8-ac76-7e41e75e93a8"
      },
      "execution_count": 22,
      "outputs": [
        {
          "output_type": "stream",
          "name": "stdout",
          "text": [
            "<bound method NDFrame.head of                                               player  \\\n",
            "0  {'id': 38101, 'name': 'Erling Haaland', 'first...   \n",
            "1  {'id': 8004, 'name': 'Harry Kane', 'firstName'...   \n",
            "2  {'id': 5453, 'name': 'Ivan Toney', 'firstName'...   \n",
            "3  {'id': 3754, 'name': 'Mohamed Salah', 'firstNa...   \n",
            "4  {'id': 8251, 'name': 'Callum Wilson', 'firstNa...   \n",
            "5  {'id': 3331, 'name': 'Marcus Rashford', 'first...   \n",
            "6  {'id': 61450, 'name': 'Martinelli', 'firstName...   \n",
            "7  {'id': 4444, 'name': 'Ollie Watkins', 'firstNa...   \n",
            "8  {'id': 7427, 'name': 'Martin Ødegaard', 'first...   \n",
            "9  {'id': 3445, 'name': 'Aleksandar Mitrović', 'f...   \n",
            "\n",
            "                                         team  numberOfGoals  \n",
            "0    {'id': 65, 'name': 'Manchester City FC'}             36  \n",
            "1  {'id': 73, 'name': 'Tottenham Hotspur FC'}             30  \n",
            "2         {'id': 402, 'name': 'Brentford FC'}             20  \n",
            "3          {'id': 64, 'name': 'Liverpool FC'}             19  \n",
            "4   {'id': 67, 'name': 'Newcastle United FC'}             18  \n",
            "5  {'id': 66, 'name': 'Manchester United FC'}             17  \n",
            "6            {'id': 57, 'name': 'Arsenal FC'}             15  \n",
            "7        {'id': 58, 'name': 'Aston Villa FC'}             15  \n",
            "8            {'id': 57, 'name': 'Arsenal FC'}             15  \n",
            "9             {'id': 63, 'name': 'Fulham FC'}             14  >\n"
          ]
        }
      ]
    }
  ]
}